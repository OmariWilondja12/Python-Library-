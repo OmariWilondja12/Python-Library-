{
  "cells": [
    {
      "cell_type": "markdown",
      "id": "b2b4f4a0",
      "metadata": {
        "id": "b2b4f4a0"
      },
      "source": [
        "#Description: Lab 6_Visualizing Numbers\n",
        "###(1)In this exercise, you will have the opportunity to use a dataset about avocado price modified from Kaggle: https://www.kaggle.com/datasets/neuromusic/avocado-prices. The columns are:\n",
        "\n",
        "\n",
        "*   Date - The date of the observation\n",
        "*   AveragePrice - the average price of a single avocado\n",
        "*   type - conventional or organic\n",
        "*   year - the year\n",
        "*   city - the city or region of the observation\n",
        "*   state - the state of the observation\n",
        "*   region - the region of the observation\n",
        "*   Total Volume - Total number of avocados sold\n",
        "*   4046 - Total number of avocados with PLU 4046 sold\n",
        "*   4225 - Total number of avocados with PLU 4225 sold\n",
        "*   4770 - Total number of avocados with PLU 4770 sold\n",
        "*   Small Bags: the number of small bags of avocados sold\n",
        "*   Large Bags: the number of large bags of acocados sold\n",
        "*   XLarge Bags: the number of extra large bags of avocado sold\n",
        "*   Total Bags: the total bags of acovados sold\n",
        "\n",
        "###(2) You are asked to create **five** visualizations using the avocado dataset \n",
        "###(3) One or more examples are provided for each type of visualizations\n"
      ]
    },
    {
      "cell_type": "markdown",
      "id": "C5H1_DAsHl9-",
      "metadata": {
        "id": "C5H1_DAsHl9-"
      },
      "source": [
        "# Step 0: Import the data"
      ]
    },
    {
      "cell_type": "code",
      "execution_count": null,
      "id": "530550a4",
      "metadata": {
        "id": "530550a4"
      },
      "outputs": [],
      "source": [
        "#0 we import the main packages we will be using: pandas\n",
        "import pandas as pd\n",
        "import seaborn as sns\n",
        "import numpy as np\n",
        "import io\n",
        "import matplotlib.pyplot as plt\n",
        "!pip install squarify # You need to install squarify because it is not a default package on Goolge CoLab\n",
        "import squarify"
      ]
    },
    {
      "cell_type": "code",
      "execution_count": null,
      "id": "af4465ea",
      "metadata": {
        "id": "af4465ea"
      },
      "outputs": [],
      "source": [
        "## import avocado dataset using this if you are on colab\n",
        "from google.colab import files\n",
        "uploaded = files.upload()"
      ]
    },
    {
      "cell_type": "code",
      "execution_count": null,
      "id": "1cdcd318",
      "metadata": {
        "id": "1cdcd318"
      },
      "outputs": [],
      "source": [
        "#read the csv file to a Pandas dataframe\n",
        "data = pd.read_csv(io.BytesIO(uploaded['avocado.csv']))\n",
        "# Dataset is now stored in a Pandas Dataframe\n",
        "# if you use Pytho notebook locally, you can use the following code to read the csv file in.\n",
        "#data = pd.read_csv('avocado.csv')"
      ]
    },
    {
      "cell_type": "markdown",
      "id": "U_o42ZUqHyBu",
      "metadata": {
        "id": "U_o42ZUqHyBu"
      },
      "source": [
        "# Step 1: Explore the data"
      ]
    },
    {
      "cell_type": "code",
      "execution_count": null,
      "id": "ac451547",
      "metadata": {
        "id": "ac451547"
      },
      "outputs": [],
      "source": [
        "# 1.1 show information about the data\n",
        "data.info()"
      ]
    },
    {
      "cell_type": "code",
      "execution_count": null,
      "id": "ji9DqY_eaJZI",
      "metadata": {
        "id": "ji9DqY_eaJZI"
      },
      "outputs": [],
      "source": [
        "# 1.2 Because the Date column is not in Date Time data type, we change it here. \n",
        "data['Date']= pd.to_datetime(data['Date'])\n",
        "data.info()"
      ]
    },
    {
      "cell_type": "code",
      "execution_count": null,
      "id": "caa6d217",
      "metadata": {
        "id": "caa6d217"
      },
      "outputs": [],
      "source": [
        "# 1.3 returns the number of unique values for each column; another way to explore the data\n",
        "data.nunique()"
      ]
    },
    {
      "cell_type": "code",
      "execution_count": null,
      "id": "5e11c633",
      "metadata": {
        "id": "5e11c633"
      },
      "outputs": [],
      "source": [
        "# 1.2 print out first 10 rows of values in data. \n",
        "data.head(10)"
      ]
    },
    {
      "cell_type": "code",
      "execution_count": null,
      "id": "Jx1_CJuyNb03",
      "metadata": {
        "id": "Jx1_CJuyNb03"
      },
      "outputs": [],
      "source": [
        "# 1.3 calculate a correlation matrix for the data. More info: https://www.datacamp.com/tutorial/tutorial-datails-on-correlation \n",
        "data.corr()"
      ]
    },
    {
      "cell_type": "markdown",
      "id": "DPuhMc6NNRbo",
      "metadata": {
        "id": "DPuhMc6NNRbo"
      },
      "source": [
        "# Step 2: Create visualizations\n",
        "\n",
        "\n",
        "*   You are required to create 5 visualizations\n",
        "*   An example is given for each visualization\n",
        "\n"
      ]
    },
    {
      "cell_type": "markdown",
      "id": "sG_0mmozA1aA",
      "metadata": {
        "id": "sG_0mmozA1aA"
      },
      "source": [
        "# 2.1 Line chart"
      ]
    },
    {
      "cell_type": "code",
      "execution_count": null,
      "id": "aEr68QpbXB8z",
      "metadata": {
        "id": "aEr68QpbXB8z"
      },
      "outputs": [],
      "source": [
        "# Line chart example - the number of totol volumes sold by year by avocado type. Note that we use the Seaborn library here. \n",
        "sns.relplot(data=data, kind='line',\n",
        "            x='year', y='Total Volume', hue='type')"
      ]
    },
    {
      "cell_type": "code",
      "execution_count": null,
      "id": "2Ldw5v23YvVB",
      "metadata": {
        "id": "2Ldw5v23YvVB"
      },
      "outputs": [],
      "source": [
        "# Line chart question: Please create a line chart that shows the averge price by year by region \n",
        "# Solution: \n"
      ]
    },
    {
      "cell_type": "markdown",
      "id": "1PECsW1vakZw",
      "metadata": {
        "id": "1PECsW1vakZw"
      },
      "source": [
        "# 2.2 Bar Chart"
      ]
    },
    {
      "cell_type": "code",
      "execution_count": null,
      "id": "a6181e0b",
      "metadata": {
        "id": "a6181e0b"
      },
      "outputs": [],
      "source": [
        "#Bar chart example 1: Create a bar plot that shows the mean, median, and standard deviation of the Total Volume column by year\n",
        "data1=data.groupby('year')['Total Volume'].agg(['mean','median','std'])\n",
        "data1\n",
        "data1.plot.bar()"
      ]
    },
    {
      "cell_type": "code",
      "execution_count": null,
      "id": "b0dcdfc0",
      "metadata": {
        "id": "b0dcdfc0"
      },
      "outputs": [],
      "source": [
        "#Bar chart example 2: Create a barchart using the total volume of organic avocadoes sold, grouping by region and year. Use region as the color hue, and year as the x-axis\n",
        "sns.catplot(data=data.query('type in (\"organic\")'),\n",
        "            kind='bar', x='year', y='Total Volume', hue='region')"
      ]
    },
    {
      "cell_type": "code",
      "execution_count": null,
      "id": "n_hGwLe2a2wS",
      "metadata": {
        "id": "n_hGwLe2a2wS"
      },
      "outputs": [],
      "source": [
        "# Bar chart question: Create a grouped bar chart showing the Average Price of avocadoes sold, grouping by region and year. Use region as the color hue. Use color palette Set2. More info on color palette: https://seaborn.pydata.org/tutorial/color_palettes.html\n",
        "# Solutions: \n",
        "\n"
      ]
    },
    {
      "cell_type": "markdown",
      "id": "4r7GWneldw9u",
      "metadata": {
        "id": "4r7GWneldw9u"
      },
      "source": [
        "# 2.3 Showing distribution using histograms or boxplots"
      ]
    },
    {
      "cell_type": "code",
      "execution_count": null,
      "id": "dc164d01",
      "metadata": {
        "id": "dc164d01"
      },
      "outputs": [],
      "source": [
        "# Histogram example: show the distribution of average price using 15 bins. \n",
        "data_hist = data['AveragePrice']\n",
        "sns.histplot(data_hist,bins=15)\n"
      ]
    },
    {
      "cell_type": "code",
      "execution_count": null,
      "id": "5179175c",
      "metadata": {
        "id": "5179175c"
      },
      "outputs": [],
      "source": [
        "# Boxplot example: \n",
        "# create grouped boxplot: show distribution of average price by year\n",
        "# use this to plt.style.use(\"seaborn-white\") set the basic style of visualizations\n",
        "sns.boxplot(x = data['year'],\n",
        "\t\t\ty = data['AveragePrice'],\n",
        "           palette='husl')\n"
      ]
    },
    {
      "cell_type": "code",
      "execution_count": null,
      "id": "meccLoH8fV-0",
      "metadata": {
        "id": "meccLoH8fV-0"
      },
      "outputs": [],
      "source": [
        "# Boxplot Question (You are required to pick one from Boxplot or histogram): create grouped boxplot to show the distribution of average price by year and by type of avocado (for color); You can choose any color pallete; You should see 8 boxes\n",
        "# Boxplot solution:\n",
        "\n"
      ]
    },
    {
      "cell_type": "code",
      "execution_count": null,
      "id": "211ATrdl_DD8",
      "metadata": {
        "id": "211ATrdl_DD8"
      },
      "outputs": [],
      "source": [
        "# Histogram question (You are required to pick one from Boxplot or histogram): create a histogram to show the average price distribution of different avocado types\n",
        "# Histogram solution -\n",
        "\n"
      ]
    },
    {
      "cell_type": "markdown",
      "id": "KNh4vSV22o0n",
      "metadata": {
        "id": "KNh4vSV22o0n"
      },
      "source": [
        "# Step 2.4 Scatterplot"
      ]
    },
    {
      "cell_type": "code",
      "execution_count": null,
      "id": "cfc6a9a3",
      "metadata": {
        "id": "cfc6a9a3"
      },
      "outputs": [],
      "source": [
        "# Scatterplot example 1: create a scatterplot for total volume and average price using a generic method in seaborn. More info: https://seaborn.pydata.org/generated/seaborn.relplot.html \n",
        "sns.relplot(data=data, kind='scatter', x='AveragePrice', y='Total Volume')"
      ]
    },
    {
      "cell_type": "code",
      "execution_count": null,
      "id": "13949983",
      "metadata": {
        "id": "13949983"
      },
      "outputs": [],
      "source": [
        "#Scatterplot example 2: Create the same plot but with the hue parameter set to year and the dots for the total volume with their sizes proporitional to its value \n",
        "sns.relplot(data=data, kind='scatter', x='AveragePrice', y='Total Volume', hue='year',\n",
        "           size='Total Volume')"
      ]
    },
    {
      "cell_type": "code",
      "execution_count": null,
      "id": "XNWELADk3-Rh",
      "metadata": {
        "id": "XNWELADk3-Rh"
      },
      "outputs": [],
      "source": [
        "#Scatterplot question: create a 4*4 scatterplot showing the relationship between average price and total volume by year and region; each dot is color coded by avocado type\n",
        "#Hints: you will use hue, col and row parameters for relplot function. \n",
        "# Solutions\n"
      ]
    },
    {
      "cell_type": "markdown",
      "id": "IgqwGTs86b-J",
      "metadata": {
        "id": "IgqwGTs86b-J"
      },
      "source": [
        "# Step 2.5 Treemap"
      ]
    },
    {
      "cell_type": "code",
      "execution_count": null,
      "id": "xINXzXkA6nc8",
      "metadata": {
        "id": "xINXzXkA6nc8"
      },
      "outputs": [],
      "source": [
        "# Treemap example: create a treemap with fake data\n",
        "# Create a data frame with fake data\n",
        "df = pd.DataFrame({'nb_people':[8,3,4,2], 'group':[\"group A\", \"group B\", \"group C\", \"group D\"] })\n",
        "# plot it\n",
        "squarify.plot(sizes=df['nb_people'], label=df['group'], alpha=.8 )\n",
        "#plt.axis('off')\n",
        "plt.show()"
      ]
    },
    {
      "cell_type": "code",
      "execution_count": null,
      "id": "b9d42c0e",
      "metadata": {
        "id": "b9d42c0e"
      },
      "outputs": [],
      "source": [
        "# Treemap question: Creat a treemap showing the composition of total avocado sales by year. More info on colors: https://www.geeksforgeeks.org/treemaps-in-python-using-squarify/\n",
        "# group the nmber of bags sold by year\n",
        "n = data.groupby('year')[['Total Bags']].sum()\n",
        "#extract data and labels as lists\n",
        "a = data.groupby('year')[['Total Bags']].sum().index.get_level_values(0).tolist()\n",
        "#print(n)\n",
        "squarify.plot(sizes=n.values, label=a, alpha=.8,color=[\"orange\",\"green\",\"blue\", \"grey\"],pad=True)\n",
        "plt.axis('off')\n",
        "plt.show()"
      ]
    },
    {
      "cell_type": "code",
      "execution_count": null,
      "id": "KZjjGSnG7aC8",
      "metadata": {
        "id": "KZjjGSnG7aC8",
        "scrolled": false
      },
      "outputs": [],
      "source": [
        "# Treemap question: Creat a treemap showing the composition of avocado sales by year by region\n",
        "# Solutions:\n",
        "# hint 1: you will need to group the nmber of bags sold by year and region\n"
      ]
    },
    {
      "cell_type": "markdown",
      "id": "8SAPupLO83np",
      "metadata": {
        "id": "8SAPupLO83np"
      },
      "source": [
        "# Optional - additional exploration"
      ]
    },
    {
      "cell_type": "code",
      "execution_count": null,
      "id": "78511e04",
      "metadata": {
        "id": "78511e04"
      },
      "outputs": [],
      "source": [
        "# \n",
        "#Filter the data so it contains just the rows for 2015, for the conventional type, and for the region named Northeast. Store just the Date, Total Bags, and Small Bags columns in a new DataFrame.\n",
        "data_reduced = data.query('year == 2015 and region == \"Northeast\" and type == \"conventional\"')[['Date','Total Bags','Small Bags']]"
      ]
    },
    {
      "cell_type": "code",
      "execution_count": null,
      "id": "c58f935d",
      "metadata": {
        "id": "c58f935d"
      },
      "outputs": [],
      "source": [
        "#Melt the data in the Total Bags and Small Bags columns, but not the values in the Date column. Name the column that contains the type of bag Bags, and name the column that contains the number of bags Count. Then, display the resulting DataFrame.\n",
        "data_melted = pd.melt(data_reduced, id_vars='Date', value_vars=['Total Bags','Small Bags'],\n",
        "                     var_name='Bags', value_name='Count')\n",
        "data_melted"
      ]
    },
    {
      "cell_type": "code",
      "execution_count": null,
      "id": "5776972e",
      "metadata": {
        "id": "5776972e"
      },
      "outputs": [],
      "source": [
        "## Plot the melted data with Seaborn in a line plot, using the hue parameter to distinguish between the bag types.\n",
        "sns.relplot(data=data_melted, kind='line', x='Date', y='Count', hue='Bags')"
      ]
    },
    {
      "cell_type": "code",
      "execution_count": null,
      "id": "49728978",
      "metadata": {
        "id": "49728978"
      },
      "outputs": [],
      "source": [
        "#Bin the data in the Total Volume column into four quantiles labeled ‘poor’, ‘modest’, ‘good’, and ‘excellent’, and store the bin labels in a new column.\n",
        "data['Sales Volume'] = pd.qcut(data['Total Volume'], q=4, labels=['poor','modest','good','excellent'])\n",
        "data"
      ]
    },
    {
      "cell_type": "code",
      "execution_count": null,
      "id": "20d22307",
      "metadata": {
        "id": "20d22307"
      },
      "outputs": [],
      "source": [
        "# Plot the binned data by year using a Seaborn count plot.\n",
        "sns.catplot(data=data, kind='count', x='year', hue='Sales Volume')"
      ]
    },
    {
      "cell_type": "markdown",
      "id": "29hwmIOs9MkD",
      "metadata": {
        "id": "29hwmIOs9MkD"
      },
      "source": [
        "# The end of the assignment"
      ]
    },
    {
      "cell_type": "markdown",
      "id": "l0OvQISI9McL",
      "metadata": {
        "id": "l0OvQISI9McL"
      },
      "source": []
    }
  ],
  "metadata": {
    "colab": {
      "collapsed_sections": [],
      "provenance": [],
      "toc_visible": true
    },
    "kernelspec": {
      "display_name": "Python 3",
      "language": "python",
      "name": "python3"
    },
    "language_info": {
      "codemirror_mode": {
        "name": "ipython",
        "version": 3
      },
      "file_extension": ".py",
      "mimetype": "text/x-python",
      "name": "python",
      "nbconvert_exporter": "python",
      "pygments_lexer": "ipython3",
      "version": "3.8.8"
    }
  },
  "nbformat": 4,
  "nbformat_minor": 5
}